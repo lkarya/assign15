{
 "cells": [
  {
   "cell_type": "code",
   "execution_count": null,
   "id": "02406491",
   "metadata": {},
   "outputs": [],
   "source": [
    "# 1.How many seconds are in an hour? Use the interactive interpreter as a calculator and multiply the\n",
    "number of seconds in a minute (60) by the number of minutes in an hour (also 60).\n",
    "\n",
    "seconds_per_hour.\n",
    "\n",
    "60*60 = 3600\n",
    "\n",
    "# Assign the result from the previous task (seconds in an hour) to a variable called\n",
    "seconds_per_hour.\n",
    "seconds_per_hour = 3600\n",
    "\n",
    "# How many seconds do you think there are in a day? Make use of the variables seconds per hour\n",
    "and minutes per hour.\n",
    "\n",
    "seconds_per_hour * 24 = 86400\n",
    "\n",
    "# Calculate seconds per day again, but this time save the result in a variable called seconds_per_day\n",
    "\n",
    "86400\n",
    "\n",
    "# Divide seconds_per_day by seconds_per_hour. Use floating-point (/) division.\n",
    "seconds_per_Day / seconds_per_hour\n",
    "=24\n"
   ]
  }
 ],
 "metadata": {
  "kernelspec": {
   "display_name": "Python 3 (ipykernel)",
   "language": "python",
   "name": "python3"
  },
  "language_info": {
   "codemirror_mode": {
    "name": "ipython",
    "version": 3
   },
   "file_extension": ".py",
   "mimetype": "text/x-python",
   "name": "python",
   "nbconvert_exporter": "python",
   "pygments_lexer": "ipython3",
   "version": "3.9.7"
  }
 },
 "nbformat": 4,
 "nbformat_minor": 5
}
